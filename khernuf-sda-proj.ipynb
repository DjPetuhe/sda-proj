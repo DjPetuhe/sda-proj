{
 "cells": [
  {
   "cell_type": "markdown",
   "metadata": {},
   "source": [
    "# Project de structures de données avancées\n",
    "### Étudiant: Khernuf Valid\n",
    "### Formation: M1 Informatique\n",
    "---"
   ]
  },
  {
   "cell_type": "markdown",
   "metadata": {},
   "source": [
    "Importation des bibliothèques nécessaires :\n",
    "- pandas : pour manipuler des données sous forme tabulaire, comme des fichiers CSV.\n",
    "- annoy : pour construire un index de recherche approximative de plus proches voisins.\n",
    "- numpy : pour les opérations numériques et sur les tableaux."
   ]
  },
  {
   "cell_type": "code",
   "execution_count": 1,
   "metadata": {},
   "outputs": [],
   "source": [
    "import pandas as pd\n",
    "from annoy import AnnoyIndex\n",
    "import numpy as np"
   ]
  },
  {
   "cell_type": "markdown",
   "metadata": {},
   "source": [
    "Lecture et traitement du fichier de données sur les interactions utilisateur-film :\n",
    "- Définir le chemin vers le fichier CSV.\n",
    "- Charger le fichier dans un DataFrame avec les colonnes \"user_id\" et \"film_id\".\n",
    "- Limiter la lecture à 500 000 lignes afin de réduire la charge sur la mémoire vive (RAM).\n",
    "- Supprimer les lignes en double pour garantir des entrées uniques."
   ]
  },
  {
   "cell_type": "code",
   "execution_count": 2,
   "metadata": {},
   "outputs": [],
   "source": [
    "csv_userfilm_file = \"/Users/valid/Desktop/sda-proj/spotusers.csv\"\n",
    "userfilm_data = pd.read_csv(csv_userfilm_file, header=None, names=[\"user_id\", \"film_id\"], nrows=200000)\n",
    "userfilm_data = userfilm_data.drop_duplicates()"
   ]
  },
  {
   "cell_type": "markdown",
   "metadata": {},
   "source": [
    "\n",
    "Transformation et création de structures de données utiles pour l'analyse :\n",
    "- Grouper les films par utilisateur pour créer un dictionnaire où chaque utilisateur est associé à une liste de films qu'il a regardés.\n",
    "- Extraire tous les films uniques du dataset et les trier pour garantir un ordre cohérent.\n",
    "- Créer un dictionnaire qui associe chaque film unique à un index numérique, utile pour des opérations comme la création de matrices ou le traitement avec des algorithmes."
   ]
  },
  {
   "cell_type": "code",
   "execution_count": 3,
   "metadata": {},
   "outputs": [],
   "source": [
    "user_to_films = userfilm_data.groupby(\"user_id\")[\"film_id\"].apply(list).to_dict()\n",
    "unique_films = sorted(set(userfilm_data[\"film_id\"]))\n",
    "film_to_index = {film: idx for idx, film in enumerate(unique_films)}"
   ]
  },
  {
   "cell_type": "markdown",
   "metadata": {},
   "source": [
    "Cette étape permet de réduire la consommation de mémoire, car les identifiants des utilisateurs sont stockés sous forme d'indices numériques, plutôt que sous forme de chaînes de caractères."
   ]
  },
  {
   "cell_type": "code",
   "execution_count": null,
   "metadata": {},
   "outputs": [],
   "source": [
    "unique_users = sorted(user_to_films.keys())\n",
    "user_to_index = {user: idx for idx, user in enumerate(unique_users)}"
   ]
  },
  {
   "cell_type": "markdown",
   "metadata": {},
   "source": [
    "Définition de la taille du vecteur et initialisation de l'index Annoy :\n",
    "- La taille du vecteur est définie en fonction du nombre de films uniques, car chaque film sera représenté par un vecteur dans l'index.\n",
    "- Initialisation de l'index Annoy en spécifiant la taille du vecteur et en utilisant la métrique 'angular' (qui est souvent utilisée pour des données de type vecteur d'angle)."
   ]
  },
  {
   "cell_type": "code",
   "execution_count": null,
   "metadata": {},
   "outputs": [],
   "source": [
    "vector_size = len(unique_films)\n",
    "ann = AnnoyIndex(vector_size, metric='angular')"
   ]
  },
  {
   "cell_type": "markdown",
   "metadata": {},
   "source": [
    "Cette étape consiste à créer et ajouter les vecteurs utilisateur à l'index Annoy, tout en utilisant les indices numériques pour les utilisateurs afin de réduire la consommation de mémoire.\n",
    "- Pour chaque utilisateur, on récupère son index numérique via le dictionnaire user_to_index.\n",
    "- On initialise un vecteur de zéros représentant les films que l'utilisateur n'a pas vus.\n",
    "- Pour chaque film vu par l'utilisateur, la position correspondante dans le vecteur est mise à 1.\n",
    "- Enfin, le vecteur est ajouté à l'index Annoy en utilisant l'index de l'utilisateur."
   ]
  },
  {
   "cell_type": "code",
   "execution_count": null,
   "metadata": {},
   "outputs": [],
   "source": [
    "for user_id, films in user_to_films.items():\n",
    "    user_vector = np.zeros(vector_size)\n",
    "    for film in films:\n",
    "        user_vector[film_to_index[film]] = 1\n",
    "    ann.add_item(user_id, user_vector)"
   ]
  },
  {
   "cell_type": "markdown",
   "metadata": {},
   "source": [
    "La méthode ann.build(7) construit l'index avec 7 arbres.\n",
    "- Plus le nombre d'arbres est élevé, plus l'index est précis, mais cela consomme plus de mémoire et de temps.\n",
    "- 7 arbres offrent un bon compromis entre précision et performance pour des données de taille moyenne à grande."
   ]
  },
  {
   "cell_type": "code",
   "execution_count": null,
   "metadata": {},
   "outputs": [],
   "source": [
    "ann.build(7)\n",
    "ann.save(\"C:/Users/valid/Desktop/sda-proj/sda-proj.ann\")"
   ]
  },
  {
   "cell_type": "markdown",
   "metadata": {},
   "source": [
    "La fonction recommend_for_user recommande des films à un utilisateur en se basant sur les utilisateurs similaires, en utilisant l'index Annoy pour la recherche de voisins.\n",
    "- Si l'utilisateur n'est pas trouvé, un message d'erreur est renvoyé.\n",
    "- Ensuite, l'index des utilisateurs similaires est récupéré, en excluant l'utilisateur lui-même.\n",
    "- Les films regardés par ces utilisateurs similaires sont collectés, puis les films déjà vus par l'utilisateur d'origine sont supprimés de la liste des recommandations.\n",
    "- La fonction retourne une liste des films recommandés."
   ]
  },
  {
   "cell_type": "code",
   "execution_count": null,
   "metadata": {},
   "outputs": [],
   "source": [
    "def recommend_for_user(user_id, n_recommendations=5):\n",
    "    if user_id not in user_to_index:\n",
    "        return \"User not found in dataset.\"\n",
    "    \n",
    "    user_index = user_to_index[user_id]\n",
    "    similar_users = ann.get_nns_by_item(user_index, n_recommendations + 1)\n",
    "    similar_users = [unique_users[idx] for idx in similar_users if idx != user_index]\n",
    "\n",
    "    recommended_films = set()\n",
    "    for similar_user in similar_users:\n",
    "        recommended_films.update(user_to_films[similar_user])\n",
    "\n",
    "    watched_films = set(user_to_films[user_id])\n",
    "    recommended_films.difference_update(watched_films)\n",
    "\n",
    "    return list(recommended_films)"
   ]
  },
  {
   "cell_type": "markdown",
   "metadata": {},
   "source": [
    "C'est un exemple d'utilisation de la fonction recommend_for_user."
   ]
  },
  {
   "cell_type": "code",
   "execution_count": null,
   "metadata": {},
   "outputs": [],
   "source": [
    "u_id = 663821\n",
    "recommendations = recommend_for_user(u_id)\n",
    "print(f\"Recommendations for user {u_id}: {recommendations}\")"
   ]
  },
  {
   "cell_type": "markdown",
   "metadata": {},
   "source": [
    "---\n",
    "Link to github repository: https://github.com/DjPetuhe/sda-proj"
   ]
  }
 ],
 "metadata": {
  "kernelspec": {
   "display_name": "Python 3",
   "language": "python",
   "name": "python3"
  },
  "language_info": {
   "codemirror_mode": {
    "name": "ipython",
    "version": 3
   },
   "file_extension": ".py",
   "mimetype": "text/x-python",
   "name": "python",
   "nbconvert_exporter": "python",
   "pygments_lexer": "ipython3",
   "version": "3.11.2"
  }
 },
 "nbformat": 4,
 "nbformat_minor": 2
}
